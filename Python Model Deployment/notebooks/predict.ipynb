{
 "cells": [
  {
   "cell_type": "code",
   "execution_count": 1,
   "metadata": {},
   "outputs": [],
   "source": [
    "import pickle\n",
    "import requests\n",
    "import json\n",
    "from stackn.auth import get_token\n",
    "\n",
    "# Set input string\n",
    "example = 'Jag är ett barn, och det här är mitt hem. Alltså är det ett barnhem!'\n",
    "# msk_ind takes an index in order to mask (or hide) one of the word in the example sentence, which should then be predicted by the BERT trained model\n",
    "msk_ind = 4\n"
   ]
  },
  {
   "cell_type": "code",
   "execution_count": 2,
   "metadata": {},
   "outputs": [
    {
     "name": "stdout",
     "output_type": "stream",
     "text": [
      "{\"result\": [\"barn\", \"hem\", \"hus\", \"spädbarn\", \"##hem\"]}\n"
     ]
    }
   ],
   "source": [
    "# If you are running locally with self signed certificate, then CHANGE the secure and verify variables to False\n",
    "secure = {'STACKN_SECURE': True}\n",
    "verify = True\n",
    "# Get a token for authorization\n",
    "conf, status = get_token(secure)\n",
    "# Paste your endpoint here\n",
    "url = 'https://fastapi-serve-mnist-test-qce-e335.studio.safespring-prod.stackn.dev/predict/'\n",
    "res = requests.post(url, verify, headers={\"Authorization\": \"Bearer \"+conf['STACKN_ACCESS_TOKEN']}, json={\"pred\": example, \"msk_ind\": msk_ind})\n",
    "text_encoded = res.json().encode('latin1')\n",
    "text_decoded = text_encoded.decode('unicode-escape')\n",
    "print(text_decoded)"
   ]
  },
  {
   "cell_type": "code",
   "execution_count": null,
   "metadata": {},
   "outputs": [],
   "source": []
  }
 ],
 "metadata": {
  "kernelspec": {
   "display_name": "Python 3",
   "language": "python",
   "name": "python3"
  },
  "language_info": {
   "codemirror_mode": {
    "name": "ipython",
    "version": 3
   },
   "file_extension": ".py",
   "mimetype": "text/x-python",
   "name": "python",
   "nbconvert_exporter": "python",
   "pygments_lexer": "ipython3",
   "version": "3.8.8"
  }
 },
 "nbformat": 4,
 "nbformat_minor": 4
}
